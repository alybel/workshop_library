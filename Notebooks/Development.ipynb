{
 "cells": [
  {
   "cell_type": "code",
   "execution_count": 1,
   "metadata": {
    "collapsed": true
   },
   "outputs": [],
   "source": [
    "%load_ext autoreload\n",
    "%autoreload 2\n",
    "%matplotlib inline"
   ]
  },
  {
   "cell_type": "code",
   "execution_count": 2,
   "metadata": {
    "collapsed": true
   },
   "outputs": [],
   "source": [
    "import workshop_library as wl\n",
    "from workshop_library import training as training"
   ]
  },
  {
   "cell_type": "code",
   "execution_count": 3,
   "metadata": {},
   "outputs": [
    {
     "data": {
      "text/html": [
       "<div>\n",
       "<style>\n",
       "    .dataframe thead tr:only-child th {\n",
       "        text-align: right;\n",
       "    }\n",
       "\n",
       "    .dataframe thead th {\n",
       "        text-align: left;\n",
       "    }\n",
       "\n",
       "    .dataframe tbody tr th {\n",
       "        vertical-align: top;\n",
       "    }\n",
       "</style>\n",
       "<table border=\"1\" class=\"dataframe\">\n",
       "  <thead>\n",
       "    <tr style=\"text-align: right;\">\n",
       "      <th></th>\n",
       "      <th>A</th>\n",
       "      <th>B</th>\n",
       "      <th>C</th>\n",
       "      <th>target</th>\n",
       "    </tr>\n",
       "    <tr>\n",
       "      <th>Date</th>\n",
       "      <th></th>\n",
       "      <th></th>\n",
       "      <th></th>\n",
       "      <th></th>\n",
       "    </tr>\n",
       "  </thead>\n",
       "  <tbody>\n",
       "    <tr>\n",
       "      <th>2100-01-01</th>\n",
       "      <td>0.394651</td>\n",
       "      <td>-1.224870</td>\n",
       "      <td>100.015545</td>\n",
       "      <td>0.005118</td>\n",
       "    </tr>\n",
       "    <tr>\n",
       "      <th>2100-01-02</th>\n",
       "      <td>0.292557</td>\n",
       "      <td>-0.163704</td>\n",
       "      <td>100.527426</td>\n",
       "      <td>-0.003886</td>\n",
       "    </tr>\n",
       "    <tr>\n",
       "      <th>2100-01-03</th>\n",
       "      <td>0.145625</td>\n",
       "      <td>-0.053457</td>\n",
       "      <td>100.136768</td>\n",
       "      <td>0.011714</td>\n",
       "    </tr>\n",
       "    <tr>\n",
       "      <th>2100-01-04</th>\n",
       "      <td>0.325223</td>\n",
       "      <td>0.912410</td>\n",
       "      <td>101.309750</td>\n",
       "      <td>0.004954</td>\n",
       "    </tr>\n",
       "    <tr>\n",
       "      <th>2100-01-05</th>\n",
       "      <td>0.342154</td>\n",
       "      <td>-0.093077</td>\n",
       "      <td>101.811600</td>\n",
       "      <td>0.000801</td>\n",
       "    </tr>\n",
       "    <tr>\n",
       "      <th>2100-01-06</th>\n",
       "      <td>-0.190861</td>\n",
       "      <td>-1.120884</td>\n",
       "      <td>101.893181</td>\n",
       "      <td>0.000690</td>\n",
       "    </tr>\n",
       "    <tr>\n",
       "      <th>2100-01-07</th>\n",
       "      <td>0.064377</td>\n",
       "      <td>0.720212</td>\n",
       "      <td>101.963491</td>\n",
       "      <td>-0.005971</td>\n",
       "    </tr>\n",
       "    <tr>\n",
       "      <th>2100-01-08</th>\n",
       "      <td>-1.629138</td>\n",
       "      <td>-0.679449</td>\n",
       "      <td>101.354680</td>\n",
       "      <td>-0.003414</td>\n",
       "    </tr>\n",
       "    <tr>\n",
       "      <th>2100-01-09</th>\n",
       "      <td>0.257058</td>\n",
       "      <td>0.070935</td>\n",
       "      <td>101.008654</td>\n",
       "      <td>0.008947</td>\n",
       "    </tr>\n",
       "    <tr>\n",
       "      <th>2100-01-10</th>\n",
       "      <td>-0.773356</td>\n",
       "      <td>0.497245</td>\n",
       "      <td>101.912330</td>\n",
       "      <td>0.003955</td>\n",
       "    </tr>\n",
       "    <tr>\n",
       "      <th>2100-01-11</th>\n",
       "      <td>-0.846773</td>\n",
       "      <td>-2.443920</td>\n",
       "      <td>102.315390</td>\n",
       "      <td>-0.000992</td>\n",
       "    </tr>\n",
       "    <tr>\n",
       "      <th>2100-01-12</th>\n",
       "      <td>-0.077709</td>\n",
       "      <td>1.665231</td>\n",
       "      <td>102.213893</td>\n",
       "      <td>0.004068</td>\n",
       "    </tr>\n",
       "    <tr>\n",
       "      <th>2100-01-13</th>\n",
       "      <td>-0.485023</td>\n",
       "      <td>0.788855</td>\n",
       "      <td>102.629744</td>\n",
       "      <td>-0.002008</td>\n",
       "    </tr>\n",
       "    <tr>\n",
       "      <th>2100-01-14</th>\n",
       "      <td>1.416220</td>\n",
       "      <td>2.070328</td>\n",
       "      <td>102.423698</td>\n",
       "      <td>0.020877</td>\n",
       "    </tr>\n",
       "    <tr>\n",
       "      <th>2100-01-15</th>\n",
       "      <td>-0.079691</td>\n",
       "      <td>-2.054070</td>\n",
       "      <td>104.561952</td>\n",
       "      <td>0.014205</td>\n",
       "    </tr>\n",
       "    <tr>\n",
       "      <th>2100-01-16</th>\n",
       "      <td>1.187873</td>\n",
       "      <td>0.296049</td>\n",
       "      <td>106.047270</td>\n",
       "      <td>-0.000288</td>\n",
       "    </tr>\n",
       "    <tr>\n",
       "      <th>2100-01-17</th>\n",
       "      <td>-3.210687</td>\n",
       "      <td>0.003513</td>\n",
       "      <td>106.016699</td>\n",
       "      <td>0.003340</td>\n",
       "    </tr>\n",
       "    <tr>\n",
       "      <th>2100-01-18</th>\n",
       "      <td>0.419881</td>\n",
       "      <td>0.702092</td>\n",
       "      <td>106.370753</td>\n",
       "      <td>0.017328</td>\n",
       "    </tr>\n",
       "    <tr>\n",
       "      <th>2100-01-19</th>\n",
       "      <td>-0.790818</td>\n",
       "      <td>0.788881</td>\n",
       "      <td>108.213895</td>\n",
       "      <td>0.011242</td>\n",
       "    </tr>\n",
       "    <tr>\n",
       "      <th>2100-01-20</th>\n",
       "      <td>1.158250</td>\n",
       "      <td>-1.328973</td>\n",
       "      <td>109.430396</td>\n",
       "      <td>NaN</td>\n",
       "    </tr>\n",
       "  </tbody>\n",
       "</table>\n",
       "</div>"
      ],
      "text/plain": [
       "                   A         B           C    target\n",
       "Date                                                \n",
       "2100-01-01  0.394651 -1.224870  100.015545  0.005118\n",
       "2100-01-02  0.292557 -0.163704  100.527426 -0.003886\n",
       "2100-01-03  0.145625 -0.053457  100.136768  0.011714\n",
       "2100-01-04  0.325223  0.912410  101.309750  0.004954\n",
       "2100-01-05  0.342154 -0.093077  101.811600  0.000801\n",
       "2100-01-06 -0.190861 -1.120884  101.893181  0.000690\n",
       "2100-01-07  0.064377  0.720212  101.963491 -0.005971\n",
       "2100-01-08 -1.629138 -0.679449  101.354680 -0.003414\n",
       "2100-01-09  0.257058  0.070935  101.008654  0.008947\n",
       "2100-01-10 -0.773356  0.497245  101.912330  0.003955\n",
       "2100-01-11 -0.846773 -2.443920  102.315390 -0.000992\n",
       "2100-01-12 -0.077709  1.665231  102.213893  0.004068\n",
       "2100-01-13 -0.485023  0.788855  102.629744 -0.002008\n",
       "2100-01-14  1.416220  2.070328  102.423698  0.020877\n",
       "2100-01-15 -0.079691 -2.054070  104.561952  0.014205\n",
       "2100-01-16  1.187873  0.296049  106.047270 -0.000288\n",
       "2100-01-17 -3.210687  0.003513  106.016699  0.003340\n",
       "2100-01-18  0.419881  0.702092  106.370753  0.017328\n",
       "2100-01-19 -0.790818  0.788881  108.213895  0.011242\n",
       "2100-01-20  1.158250 -1.328973  109.430396       NaN"
      ]
     },
     "execution_count": 3,
     "metadata": {},
     "output_type": "execute_result"
    }
   ],
   "source": [
    "df = wl.ms;df"
   ]
  },
  {
   "cell_type": "code",
   "execution_count": 4,
   "metadata": {
    "collapsed": true
   },
   "outputs": [],
   "source": [
    "from sklearn.linear_model import LinearRegression"
   ]
  },
  {
   "cell_type": "code",
   "execution_count": 5,
   "metadata": {
    "collapsed": true
   },
   "outputs": [],
   "source": [
    "from workshop_library import utils"
   ]
  },
  {
   "cell_type": "code",
   "execution_count": 6,
   "metadata": {
    "collapsed": true
   },
   "outputs": [],
   "source": [
    "ma = utils.ModelAdmin()"
   ]
  },
  {
   "cell_type": "code",
   "execution_count": 11,
   "metadata": {
    "collapsed": true
   },
   "outputs": [],
   "source": [
    "ma.clear_store()"
   ]
  },
  {
   "cell_type": "code",
   "execution_count": 15,
   "metadata": {},
   "outputs": [
    {
     "data": {
      "text/plain": [
       "dict_keys(['e9507018382593d63f9163d74837648b_None_target_[]_LinearRegression(copy_X=True, fit_intercept=True, n_jobs=1, normalize=False)_Date_c958f89103f534c1700c6ab9b92367c9'])"
      ]
     },
     "execution_count": 15,
     "metadata": {},
     "output_type": "execute_result"
    }
   ],
   "source": [
    "ma.list()"
   ]
  },
  {
   "cell_type": "code",
   "execution_count": 14,
   "metadata": {},
   "outputs": [
    {
     "name": "stdout",
     "output_type": "stream",
     "text": [
      "e9507018382593d63f9163d74837648b_None_target_[]_LinearRegression(copy_X=True, fit_intercept=True, n_jobs=1, normalize=False)_Date_c958f89103f534c1700c6ab9b92367c9\n",
      "{'e9507018382593d63f9163d74837648b_None_target_[]_LinearRegression(copy_X=True, fit_intercept=True, n_jobs=1, normalize=False)_Date_c958f89103f534c1700c6ab9b92367c9':             prediction  round     truth\n",
      "2100-01-15   -0.001161      0  0.014205\n",
      "2100-01-16    0.007215      0 -0.000288\n",
      "2100-01-17   -0.016263      0  0.003340\n",
      "2100-01-18    0.003422      0  0.017328\n",
      "2100-01-19   -0.003999      0  0.011242\n",
      "2100-01-20    0.003158      0       NaN}\n",
      "debug\n",
      "Load Model from Store\n"
     ]
    },
    {
     "data": {
      "text/html": [
       "<div>\n",
       "<style>\n",
       "    .dataframe thead tr:only-child th {\n",
       "        text-align: right;\n",
       "    }\n",
       "\n",
       "    .dataframe thead th {\n",
       "        text-align: left;\n",
       "    }\n",
       "\n",
       "    .dataframe tbody tr th {\n",
       "        vertical-align: top;\n",
       "    }\n",
       "</style>\n",
       "<table border=\"1\" class=\"dataframe\">\n",
       "  <thead>\n",
       "    <tr style=\"text-align: right;\">\n",
       "      <th></th>\n",
       "      <th>prediction</th>\n",
       "      <th>round</th>\n",
       "      <th>truth</th>\n",
       "    </tr>\n",
       "  </thead>\n",
       "  <tbody>\n",
       "    <tr>\n",
       "      <th>2100-01-15</th>\n",
       "      <td>-0.001161</td>\n",
       "      <td>0</td>\n",
       "      <td>0.014205</td>\n",
       "    </tr>\n",
       "    <tr>\n",
       "      <th>2100-01-16</th>\n",
       "      <td>0.007215</td>\n",
       "      <td>0</td>\n",
       "      <td>-0.000288</td>\n",
       "    </tr>\n",
       "    <tr>\n",
       "      <th>2100-01-17</th>\n",
       "      <td>-0.016263</td>\n",
       "      <td>0</td>\n",
       "      <td>0.003340</td>\n",
       "    </tr>\n",
       "    <tr>\n",
       "      <th>2100-01-18</th>\n",
       "      <td>0.003422</td>\n",
       "      <td>0</td>\n",
       "      <td>0.017328</td>\n",
       "    </tr>\n",
       "    <tr>\n",
       "      <th>2100-01-19</th>\n",
       "      <td>-0.003999</td>\n",
       "      <td>0</td>\n",
       "      <td>0.011242</td>\n",
       "    </tr>\n",
       "    <tr>\n",
       "      <th>2100-01-20</th>\n",
       "      <td>0.003158</td>\n",
       "      <td>0</td>\n",
       "      <td>NaN</td>\n",
       "    </tr>\n",
       "  </tbody>\n",
       "</table>\n",
       "</div>"
      ],
      "text/plain": [
       "            prediction  round     truth\n",
       "2100-01-15   -0.001161      0  0.014205\n",
       "2100-01-16    0.007215      0 -0.000288\n",
       "2100-01-17   -0.016263      0  0.003340\n",
       "2100-01-18    0.003422      0  0.017328\n",
       "2100-01-19   -0.003999      0  0.011242\n",
       "2100-01-20    0.003158      0       NaN"
      ]
     },
     "execution_count": 14,
     "metadata": {},
     "output_type": "execute_result"
    }
   ],
   "source": [
    "training.training(df=df, model=LinearRegression(), target = 'target', date_column = 'Date')"
   ]
  },
  {
   "cell_type": "code",
   "execution_count": null,
   "metadata": {
    "collapsed": true
   },
   "outputs": [],
   "source": []
  }
 ],
 "metadata": {
  "hide_input": false,
  "kernelspec": {
   "display_name": "Python 3",
   "language": "python",
   "name": "python3"
  },
  "language_info": {
   "codemirror_mode": {
    "name": "ipython",
    "version": 3
   },
   "file_extension": ".py",
   "mimetype": "text/x-python",
   "name": "python",
   "nbconvert_exporter": "python",
   "pygments_lexer": "ipython3",
   "version": "3.6.3"
  },
  "varInspector": {
   "cols": {
    "lenName": 16,
    "lenType": 16,
    "lenVar": 40
   },
   "kernels_config": {
    "python": {
     "delete_cmd_postfix": "",
     "delete_cmd_prefix": "del ",
     "library": "var_list.py",
     "varRefreshCmd": "print(var_dic_list())"
    },
    "r": {
     "delete_cmd_postfix": ") ",
     "delete_cmd_prefix": "rm(",
     "library": "var_list.r",
     "varRefreshCmd": "cat(var_dic_list()) "
    }
   },
   "types_to_exclude": [
    "module",
    "function",
    "builtin_function_or_method",
    "instance",
    "_Feature"
   ],
   "window_display": false
  }
 },
 "nbformat": 4,
 "nbformat_minor": 2
}
